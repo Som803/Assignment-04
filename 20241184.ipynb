{
  "nbformat": 4,
  "nbformat_minor": 0,
  "metadata": {
    "colab": {
      "provenance": []
    },
    "kernelspec": {
      "name": "python3",
      "display_name": "Python 3"
    },
    "language_info": {
      "name": "python"
    }
  },
  "cells": [
    {
      "cell_type": "markdown",
      "source": [
        "# 1. LeetCode 225 <Implement Stack using Queues>"
      ],
      "metadata": {
        "id": "wyDmXYl6LgSw"
      }
    },
    {
      "cell_type": "code",
      "source": [
        "class MyStack:\n",
        "\n",
        "    def __init__(self):\n",
        "        self.q1 = deque()\n",
        "        self.q2 = deque()\n",
        "\n",
        "    def push(self, x: int):\n",
        "        self.q1.append(x)\n",
        "\n",
        "    def pop(self):\n",
        "        while len(self.q1):\n",
        "            self.q2.append(self.q1.popleft())\n",
        "        val = self.q1.popleft()\n",
        "        self.q1, self.q2 = self.q2, self.q1\n",
        "        return val\n",
        "\n",
        "    def top(self):\n",
        "        while len(self.q1):\n",
        "            self.q2.append(self.q1.popleft())\n",
        "        val = self.q1.popleft()\n",
        "        self.q2.append(val)\n",
        "        self.q1, self.q2 = self.q2, self.q1\n",
        "        return val\n",
        "\n",
        "    def empty(self):\n",
        "        return not self.q1\n",
        "\n",
        "/**\n",
        " * Your MyStack object will be instantiated and called as such:\n",
        " * MyStack* obj = new MyStack();\n",
        " * obj->push(x);\n",
        " * int param_2 = obj->pop();\n",
        " * int param_3 = obj->top();\n",
        " * bool param_4 = obj->empty();\n",
        " */"
      ],
      "metadata": {
        "id": "C70NtVIoLkEF"
      },
      "execution_count": null,
      "outputs": []
    },
    {
      "cell_type": "markdown",
      "source": [
        "# 2. LeetCode 232 <Implement Queue using Stacks>"
      ],
      "metadata": {
        "id": "Tz7wjUZqLqzB"
      }
    },
    {
      "cell_type": "code",
      "source": [
        "class MyQueue:\n",
        "\n",
        "    def __init__(self):\n",
        "        self.in_stack = []\n",
        "        self.out_stack = []\n",
        "\n",
        "    def push(self, x: int):\n",
        "        self.in_stack.append(x)\n",
        "\n",
        "    def pop(self):\n",
        "        self.move()\n",
        "        return self.out_stack.pop()\n",
        "\n",
        "    def peek(self):\n",
        "        self.move()\n",
        "        return self.out_stack[-1]\n",
        "\n",
        "    def empty(self):\n",
        "        return not self.in_stack and not self.out_stack\n",
        "\n",
        "    def move(self):\n",
        "        if not self.out_stack:\n",
        "            while self.in_stack:\n",
        "                self.out_stack.append(self.in_stack.pop())\n",
        "\n",
        "/**\n",
        " * Your MyQueue object will be instantiated and called as such:\n",
        " * MyQueue* obj = new MyQueue();\n",
        " * obj->push(x);\n",
        " * int param_2 = obj->pop();\n",
        " * int param_3 = obj->peek();\n",
        " * bool param_4 = obj->empty();\n",
        " */"
      ],
      "metadata": {
        "id": "1H7GWUTNL3sz"
      },
      "execution_count": null,
      "outputs": []
    },
    {
      "cell_type": "markdown",
      "source": [
        " # 3. Chapter7 <큐 연습문제>"
      ],
      "metadata": {
        "id": "AiEK8foDME4p"
      }
    },
    {
      "cell_type": "markdown",
      "source": [
        "*1번*"
      ],
      "metadata": {
        "id": "q5Y1dajgRo2x"
      }
    },
    {
      "cell_type": "code",
      "source": [
        " class ListQueue:\n",
        "    def __init__(self):\n",
        "        self.__queue = []\n",
        "\n",
        "    def enqueue(self, x):\n",
        "        self.__queue.insert(0, x)\n",
        "\n",
        "    def dequeue(self):\n",
        "        return self.__queue.pop()\n",
        "\n",
        "    def front(self):\n",
        "        return self.__queue[-1]\n",
        "\n",
        "    def isEmpty(self):\n",
        "        return len(self.__queue) == 0\n",
        "\n",
        "    def dequeueAll(self):\n",
        "        self.__queue.clear()"
      ],
      "metadata": {
        "id": "a1H3MW3JSXFa"
      },
      "execution_count": null,
      "outputs": []
    },
    {
      "cell_type": "markdown",
      "source": [
        "*2번*"
      ],
      "metadata": {
        "id": "8XgjRFapR7tB"
      }
    },
    {
      "cell_type": "code",
      "source": [
        "from collections import deque\n",
        "\n",
        "def is_valid_format(s: str):\n",
        "    q = deque()\n",
        "\n",
        "    if '$' not in s:\n",
        "        return False\n",
        "\n",
        "    left, right = s.split('$')\n",
        "\n",
        "    for ch in left:\n",
        "        q.append(ch)\n",
        "\n",
        "    for ch in right:\n",
        "        if not q:\n",
        "            return False\n",
        "        if ch != q.popleft():\n",
        "            return False\n",
        "\n",
        "    return not q"
      ],
      "metadata": {
        "id": "hsidyujMSafz"
      },
      "execution_count": null,
      "outputs": []
    },
    {
      "cell_type": "markdown",
      "source": [
        "*3번*"
      ],
      "metadata": {
        "id": "-PrHzWHlR76S"
      }
    },
    {
      "cell_type": "code",
      "source": [
        "def copyQueue(a: LinkedQueue):\n",
        "    b = LinkedQueue()\n",
        "    current = a.front\n",
        "    while current is not None:\n",
        "        b.enqueue(current.data)\n",
        "        current = current.next\n",
        "    return b"
      ],
      "metadata": {
        "id": "SQEnXIR4SfH1"
      },
      "execution_count": null,
      "outputs": []
    },
    {
      "cell_type": "markdown",
      "source": [
        "*4번*"
      ],
      "metadata": {
        "id": "xo6JwtGNR8BL"
      }
    },
    {
      "cell_type": "code",
      "source": [
        "class MyStack:\n",
        "\n",
        "    def __init__(self):\n",
        "        self.q1 = deque()\n",
        "        self.q2 = deque()\n",
        "\n",
        "    def push(self, x: int):\n",
        "        self.q1.append(x)\n",
        "\n",
        "    def pop(self):\n",
        "        while len(self.q1):\n",
        "            self.q2.append(self.q1.popleft())\n",
        "        val = self.q1.popleft()\n",
        "        self.q1, self.q2 = self.q2, self.q1\n",
        "        return val\n"
      ],
      "metadata": {
        "id": "SgCuRl2dSj0U"
      },
      "execution_count": null,
      "outputs": []
    },
    {
      "cell_type": "markdown",
      "source": [
        "*5번*"
      ],
      "metadata": {
        "id": "O7IWXXcaR8Vt"
      }
    },
    {
      "cell_type": "code",
      "source": [
        "class MyQueue:\n",
        "    def __init__(self):\n",
        "        self.s1 = []\n",
        "        self.s2 = []\n",
        "\n",
        "    def enqueue(self, x):\n",
        "        while self.s2:\n",
        "            self.s1.append(self.s2.pop())\n",
        "        self.s2.append(x)\n",
        "        while self.s1:\n",
        "            self.s2.append(self.s1.pop())\n",
        "\n",
        "    def dequeue(self):\n",
        "        return self.s2.pop() if self.s2 else None\n"
      ],
      "metadata": {
        "id": "KfKdd2zaSk7r"
      },
      "execution_count": null,
      "outputs": []
    },
    {
      "cell_type": "markdown",
      "source": [
        "*6번*"
      ],
      "metadata": {
        "id": "wzFBj-IRR8c1"
      }
    },
    {
      "cell_type": "code",
      "source": [
        "가장 효율적인 방법이고 Deque로 구현하였을 때 배열 기반 원형 큐 관점에서는\n",
        "enqueue와 dequeue일 때 각각 삽임, 제거하기 위해 인덱스만 한 칸 옮기면 되어서\n",
        "배열 전체를 밀거나 당기는 일이 없다. 그리고 이중 연결 리스트 관점에서는도\n",
        "enqueue일 때와 dequeue일 때 모두 중간 노드를 탐색하거나 복사할 필요가 없다.\n",
        "따라서 모든 관점에서 특정 포인터 하나만 변화되면 되기 때문에 큐의 사이즈 n에\n",
        "상관없이 일정한 시간인 O(1)동안 수행된다."
      ],
      "metadata": {
        "id": "UaoN8IJQSo4l"
      },
      "execution_count": null,
      "outputs": []
    },
    {
      "cell_type": "markdown",
      "source": [
        "*7번*"
      ],
      "metadata": {
        "id": "0bZg9hUuR8jo"
      }
    },
    {
      "cell_type": "code",
      "source": [
        "LinkedListBasic 객체를 사용하면 enqueue는 단일 연결 리스트의 맨 뒤에\n",
        "삽입하는 역할이므로 만약 tail포인터가 없으면 처음부터 끝까지 순회해야만\n",
        "마지막 노드를 찾기 때문에 O(n)이 걸리고 dequeue는 맨 앞 노드를 삭제하는 역할\n",
        "이기 때문에 head만 바꾸면 되므로 O(1)이 걸린다."
      ],
      "metadata": {
        "id": "vyQUtRvkSqcX"
      },
      "execution_count": null,
      "outputs": []
    },
    {
      "cell_type": "markdown",
      "source": [
        "*8번*"
      ],
      "metadata": {
        "id": "sL8L-Tx_R8q2"
      }
    },
    {
      "cell_type": "code",
      "source": [
        "class Deque:\n",
        "    def __init__(self):\n",
        "        self.__queue = []\n",
        "\n",
        "    def isEmpty(self):\n",
        "        return len(self.__queue) == 0\n",
        "\n",
        "    def enqueueFront(self, x):\n",
        "        self.__queue.insert(0, x)\n",
        "\n",
        "    def enqueueRear(self, x):\n",
        "        self.__queue.append(x)\n",
        "\n",
        "    def dequeueFront(self):\n",
        "        if self.isEmpty():\n",
        "            return None\n",
        "        return self.__queue.pop(0)\n",
        "\n",
        "    def dequeueRear(self):\n",
        "        if self.isEmpty():\n",
        "            return None\n",
        "        return self.__queue.pop()\n",
        "\n",
        "    def front(self):\n",
        "        if self.isEmpty():\n",
        "            return None\n",
        "        return self.__queue[0]\n",
        "\n",
        "    def rear(self):\n",
        "        if self.isEmpty():\n",
        "            return None\n",
        "        return self.__queue[-1]\n",
        "\n",
        "    def dequeueAll(self):\n",
        "        self.__queue.clear()\n",
        "\n",
        "    def printQueue(self):\n",
        "        print(\"Deque from front:\", end=\" \")\n",
        "        for item in self.__queue:\n",
        "            print(item, end=\" \")\n",
        "        print()"
      ],
      "metadata": {
        "id": "NjrpmI18MGLq"
      },
      "execution_count": null,
      "outputs": []
    }
  ]
}